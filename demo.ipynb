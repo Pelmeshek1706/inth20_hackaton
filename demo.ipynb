{
 "cells": [
  {
   "cell_type": "code",
   "execution_count": 92,
   "metadata": {},
   "outputs": [],
   "source": [
    "import cv2\n",
    "\n",
    "def crop_image_by_bbox(image, bbox):\n",
    "  \"\"\"\n",
    "  Crops an image based on a bounding box (x, y, width, height).\n",
    "\n",
    "  Args:\n",
    "      image: The image to be cropped (NumPy array).\n",
    "      bbox: A tuple containing bounding box coordinates (x, y, width, height).\n",
    "\n",
    "  Returns:\n",
    "      A cropped image (NumPy array) or None if the bounding box is invalid.\n",
    "  \"\"\"\n",
    "\n",
    "  # Extract bounding box coordinates\n",
    "  x, y, w, h = bbox\n",
    "\n",
    "  # Check for valid bounding box (entirely within image)\n",
    "  if (x >= 0) and (y >= 0) and (x + w <= image.shape[1]) and (y + h <= image.shape[0]):\n",
    "    return image[y:y+h, x:x+w]  # Slice the image using bounding box coordinates\n",
    "  else:\n",
    "    print(\"Invalid bounding box. Image not cropped.\")\n",
    "    return None  # Return None if bounding box is outside image"
   ]
  },
  {
   "cell_type": "code",
   "execution_count": 106,
   "metadata": {},
   "outputs": [],
   "source": [
    "def detect_face(image_path):\n",
    "    class_face = 0\n",
    "    img = cv2.imread(image_path)\n",
    "    gray_img = cv2.cvtColor(img, cv2.COLOR_BGR2GRAY)\n",
    "    haar_cascade = cv2.CascadeClassifier('haarcascade_frontalface_alt.xml') \n",
    "    faces_rect = haar_cascade.detectMultiScale( \n",
    "    gray_img, scaleFactor=1.1, minNeighbors=45) # celect \n",
    "\n",
    "    if len(faces_rect)>0:\n",
    "        # class_face = 1 # full-face\n",
    "        for (x, y, w, h) in faces_rect:\n",
    "            # Crop the face using the bounding box\n",
    "            cropped_face = crop_image_by_bbox(img, (x, y, w, h))\n",
    "        return cropped_face\n",
    "    else:\n",
    "        return None"
   ]
  },
  {
   "cell_type": "code",
   "execution_count": 96,
   "metadata": {},
   "outputs": [],
   "source": [
    "import os\n",
    "def save_picture(image, filename,):\n",
    "    if not os.path.exists(\"temp\"):\n",
    "        os.makedirs(\"temp\")\n",
    "    cv2.imwrite(os.path.join('temp', filename), image)"
   ]
  },
  {
   "cell_type": "code",
   "execution_count": 103,
   "metadata": {},
   "outputs": [],
   "source": [
    "def check_image_size(image_path):\n",
    "    from PIL import Image\n",
    "    \"\"\"\n",
    "    Функция для проверки размера изображения.\n",
    "\n",
    "    Параметры:\n",
    "        image_path (str): Путь к изображению.\n",
    "\n",
    "    Возвращает:\n",
    "        bool: True, если изображение имеет размер больше или равен 100x100 пикселей, иначе False.\n",
    "    \"\"\"\n",
    "    img = cv2.imread(image_path)\n",
    "    if img is not None:\n",
    "        height, width, _ = img.shape\n",
    "        return width >= 100 and height >= 100\n",
    "    return False"
   ]
  },
  {
   "cell_type": "code",
   "execution_count": 107,
   "metadata": {},
   "outputs": [],
   "source": [
    "import os\n",
    "from tqdm import tqdm\n",
    "def process_directory(directory):\n",
    "    \"\"\"\n",
    "    Функция для вывода пути к файлу с расширением '.jpeg' в указанной директории и ее поддиректориях.\n",
    "\n",
    "    Параметры:\n",
    "        directory (str): Путь к директории, в которой нужно искать файлы.\n",
    "    \"\"\"\n",
    "    # Проверяем существует ли указанная директория\n",
    "    if not os.path.isdir(directory):\n",
    "        print(f\"Директория '{directory}' не существует.\")\n",
    "        return\n",
    "\n",
    "    for root, dirs, files in tqdm(os.walk(directory)):\n",
    "        for file in files:\n",
    "            # Проверяем, что файл имеет расширение '.jpeg'\n",
    "            if file.endswith('.jpg'):\n",
    "                file_path = os.path.join(root, file)\n",
    "                if check_image_size(file_path):\n",
    "                    crop_face = detect_face(file_path)\n",
    "                    if crop_face is None:\n",
    "                        continue\n",
    "                    else: \n",
    "                        save_picture(crop_face, file)\n"
   ]
  },
  {
   "cell_type": "code",
   "execution_count": 109,
   "metadata": {},
   "outputs": [
    {
     "name": "stderr",
     "output_type": "stream",
     "text": [
      "101it [52:54, 31.43s/it]\n"
     ]
    }
   ],
   "source": [
    "# Пример использования функции\n",
    "directory = r\"..\\wiki_crop\"  # Укажите путь к нужной директории\n",
    "process_directory(directory)"
   ]
  },
  {
   "cell_type": "code",
   "execution_count": 19,
   "metadata": {},
   "outputs": [
    {
     "ename": "error",
     "evalue": "OpenCV(4.9.0) D:\\a\\opencv-python\\opencv-python\\opencv\\modules\\objdetect\\src\\cascadedetect.cpp:1689: error: (-215:Assertion failed) !empty() in function 'cv::CascadeClassifier::detectMultiScale'\n",
     "output_type": "error",
     "traceback": [
      "\u001b[1;31m---------------------------------------------------------------------------\u001b[0m",
      "\u001b[1;31merror\u001b[0m                                     Traceback (most recent call last)",
      "Cell \u001b[1;32mIn [19], line 1\u001b[0m\n\u001b[1;32m----> 1\u001b[0m \u001b[43mdetect_face\u001b[49m\u001b[43m(\u001b[49m\u001b[38;5;124;43mr\u001b[39;49m\u001b[38;5;124;43m\"\u001b[39;49m\u001b[38;5;124;43m23300_1962-06-19_2011.jpg\u001b[39;49m\u001b[38;5;124;43m\"\u001b[39;49m\u001b[43m)\u001b[49m\n",
      "Cell \u001b[1;32mIn [15], line 14\u001b[0m, in \u001b[0;36mdetect_face\u001b[1;34m(image_path)\u001b[0m\n\u001b[0;32m     11\u001b[0m gray_image \u001b[38;5;241m=\u001b[39m cv2\u001b[38;5;241m.\u001b[39mcvtColor(image, cv2\u001b[38;5;241m.\u001b[39mCOLOR_BGR2GRAY)\n\u001b[0;32m     13\u001b[0m \u001b[38;5;66;03m# Обнаружение лиц на изображении\u001b[39;00m\n\u001b[1;32m---> 14\u001b[0m faces \u001b[38;5;241m=\u001b[39m \u001b[43mface_cascade\u001b[49m\u001b[38;5;241;43m.\u001b[39;49m\u001b[43mdetectMultiScale\u001b[49m\u001b[43m(\u001b[49m\u001b[43mgray_image\u001b[49m\u001b[43m,\u001b[49m\u001b[43m \u001b[49m\u001b[43mscaleFactor\u001b[49m\u001b[38;5;241;43m=\u001b[39;49m\u001b[38;5;241;43m1.1\u001b[39;49m\u001b[43m,\u001b[49m\u001b[43m \u001b[49m\u001b[43mminNeighbors\u001b[49m\u001b[38;5;241;43m=\u001b[39;49m\u001b[38;5;241;43m5\u001b[39;49m\u001b[43m,\u001b[49m\u001b[43m \u001b[49m\u001b[43mminSize\u001b[49m\u001b[38;5;241;43m=\u001b[39;49m\u001b[43m(\u001b[49m\u001b[38;5;241;43m30\u001b[39;49m\u001b[43m,\u001b[49m\u001b[43m \u001b[49m\u001b[38;5;241;43m30\u001b[39;49m\u001b[43m)\u001b[49m\u001b[43m)\u001b[49m\n\u001b[0;32m     16\u001b[0m \u001b[38;5;66;03m# Если лица обнаружены, выделить их на изображении\u001b[39;00m\n\u001b[0;32m     17\u001b[0m \u001b[38;5;28;01mif\u001b[39;00m \u001b[38;5;28mlen\u001b[39m(faces) \u001b[38;5;241m>\u001b[39m \u001b[38;5;241m0\u001b[39m:\n",
      "\u001b[1;31merror\u001b[0m: OpenCV(4.9.0) D:\\a\\opencv-python\\opencv-python\\opencv\\modules\\objdetect\\src\\cascadedetect.cpp:1689: error: (-215:Assertion failed) !empty() in function 'cv::CascadeClassifier::detectMultiScale'\n"
     ]
    }
   ],
   "source": [
    "detect_face(r\"23300_1962-06-19_2011.jpg\")"
   ]
  }
 ],
 "metadata": {
  "kernelspec": {
   "display_name": "Python 3.10.0 64-bit",
   "language": "python",
   "name": "python3"
  },
  "language_info": {
   "codemirror_mode": {
    "name": "ipython",
    "version": 3
   },
   "file_extension": ".py",
   "mimetype": "text/x-python",
   "name": "python",
   "nbconvert_exporter": "python",
   "pygments_lexer": "ipython3",
   "version": "3.10.0"
  },
  "orig_nbformat": 4,
  "vscode": {
   "interpreter": {
    "hash": "c689da37b931957c2181bb211f19f7968a084e5aca8407acb6ef0e3194bd9e10"
   }
  }
 },
 "nbformat": 4,
 "nbformat_minor": 2
}
